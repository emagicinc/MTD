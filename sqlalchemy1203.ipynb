{
 "cells": [
  {
   "cell_type": "code",
   "execution_count": 2,
   "metadata": {
    "collapsed": true
   },
   "outputs": [],
   "source": [
    "import pandas as pd"
   ]
  },
  {
   "cell_type": "code",
   "execution_count": 4,
   "metadata": {
    "collapsed": false
   },
   "outputs": [],
   "source": [
    "from sqlalchemy.orm import sessionmaker\n",
    "from sqlalchemy import create_engine\n",
    "from sqlalchemy.ext.declarative import declarative_base #创建基类用\n",
    "from sqlalchemy import * \n",
    "from sqlalchemy.orm import mapper\n",
    "engine = create_engine(\"sqlite:///c:/python34/mtd/mtd.db\")\n"
   ]
  },
  {
   "cell_type": "code",
   "execution_count": 5,
   "metadata": {
    "collapsed": true
   },
   "outputs": [],
   "source": [
    "Session = sessionmaker(bind=engine)\n",
    "se = Session() #用这个se就可以去查询了\n",
    "Base = declarative_base() #基类"
   ]
  },
  {
   "cell_type": "code",
   "execution_count": 6,
   "metadata": {
    "collapsed": true
   },
   "outputs": [],
   "source": [
    "meta = MetaData(bind=engine)\n",
    "meta.reflect()\n",
    "table = meta.tables['Task'] \n",
    "result2 = list(engine.execute(table.select(table.c.id > 0))) #注意，result2等同于ans"
   ]
  },
  {
   "cell_type": "code",
   "execution_count": 7,
   "metadata": {
    "collapsed": true
   },
   "outputs": [],
   "source": [
    "meta = MetaData(engine) \n",
    "tasks = Table('Task', meta, autoload=True)"
   ]
  },
  {
   "cell_type": "code",
   "execution_count": 8,
   "metadata": {
    "collapsed": true
   },
   "outputs": [],
   "source": [
    "def run(stmt):  \n",
    "    rs = stmt.execute()\n",
    "    for row in rs:  \n",
    "        print(row) "
   ]
  },
  {
   "cell_type": "code",
   "execution_count": 9,
   "metadata": {
    "collapsed": false
   },
   "outputs": [
    {
     "name": "stdout",
     "output_type": "stream",
     "text": [
      "(33, '2320668482', 'a72a61cc7e9842d5a6a1153b475e9560', 11, '2016-11-28T15:10:21.991Z', None, 'SYNCED', False, 'Python系统学习', '2016-11-29', False, False, None, None, None, '278969173', '31187142', 'task', 'week', 1, 0, None, None, None, None)\n",
      "(46, '2321750040', '42e0f52059fa4bcb93207b3e293109fd', 3, '2016-11-28T21:33:25.960Z', None, 'SYNCED', False, 'sm文章发布', None, False, False, None, None, None, '278927110', '31187142', 'task', None, 0, 0, None, None, None, None)\n",
      "(63, '2321754144', 'dc3465e803804eb5a1e5f11f2a285d5a', 4, '2016-11-28T21:35:08.564Z', None, 'SYNCED', False, '追剧', None, False, False, None, None, None, '278927817', '31187142', 'task', None, 0, 0, None, None, None, None)\n",
      "(78, '2321772861', 'dbf79b33625540b1b8757c2a86affa87', 6, '2016-11-28T21:43:04.093Z', None, 'SYNCED', False, '小编', '2016-12-10', False, False, None, None, None, '278927110', '31187142', 'task', None, 0, 0, None, None, None, None)\n",
      "(87, '2321775393', '05d781fe3b93443c80c8ee0153dada29', 8, '2016-11-28T21:44:14.091Z', None, 'DIRTY', False, '转换精灵', None, False, False, None, None, None, '278927110', '31187142', 'task', None, 0, 0, None, None, None, None)\n"
     ]
    }
   ],
   "source": [
    "s = tasks.select(tasks.c.revision > 2)\n",
    "run(s) "
   ]
  },
  {
   "cell_type": "code",
   "execution_count": null,
   "metadata": {
    "collapsed": true
   },
   "outputs": [],
   "source": []
  }
 ],
 "metadata": {
  "kernelspec": {
   "display_name": "Python 3",
   "language": "python",
   "name": "python3"
  },
  "language_info": {
   "codemirror_mode": {
    "name": "ipython",
    "version": 3
   },
   "file_extension": ".py",
   "mimetype": "text/x-python",
   "name": "python",
   "nbconvert_exporter": "python",
   "pygments_lexer": "ipython3",
   "version": "3.4.4"
  }
 },
 "nbformat": 4,
 "nbformat_minor": 2
}
